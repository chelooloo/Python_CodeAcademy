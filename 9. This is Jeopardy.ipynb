{
 "cells": [
  {
   "cell_type": "markdown",
   "metadata": {},
   "source": [
    "# This is Jeopardy!"
   ]
  },
  {
   "cell_type": "markdown",
   "metadata": {},
   "source": [
    "#### Overview"
   ]
  },
  {
   "cell_type": "markdown",
   "metadata": {},
   "source": [
    "This project is slightly different than others you have encountered thus far. Instead of a step-by-step tutorial, this project contains a series of open-ended requirements which describe the project you'll be building. There are many possible ways to correctly fulfill all of these requirements, and you should expect to use the internet, Codecademy, and/or other resources when you encounter a problem that you cannot easily solve."
   ]
  },
  {
   "cell_type": "markdown",
   "metadata": {},
   "source": [
    "#### Project Goals"
   ]
  },
  {
   "cell_type": "markdown",
   "metadata": {},
   "source": [
    "You will work to write several functions that investigate a dataset of _Jeopardy!_ questions and answers. Filter the dataset for topics that you're interested in, compute the average difficulty of those questions, and train to become the next Jeopardy champion!"
   ]
  },
  {
   "cell_type": "markdown",
   "metadata": {},
   "source": [
    "## Prerequisites"
   ]
  },
  {
   "cell_type": "markdown",
   "metadata": {},
   "source": [
    "In order to complete this project, you should have completed the Pandas lessons in the <a href=\"https://www.codecademy.com/learn/paths/analyze-data-with-python\">Analyze Data with Python Skill Path</a>. You can also find those lessons in the <a href=\"https://www.codecademy.com/learn/data-processing-pandas\">Data Analysis with Pandas course</a> or the <a href=\"https://www.codecademy.com/learn/paths/data-science/\">Data Scientist Career Path</a>.\n",
    "\n",
    "Finally, the <a href=\"https://www.codecademy.com/learn/practical-data-cleaning\">Practical Data Cleaning</a> course may also be helpful."
   ]
  },
  {
   "cell_type": "markdown",
   "metadata": {},
   "source": [
    "## Project Requirements"
   ]
  },
  {
   "cell_type": "markdown",
   "metadata": {},
   "source": [
    "1. We've provided a csv file containing data about the game show _Jeopardy!_ in a file named `jeopardy.csv`. Load the data into a DataFrame and investigate its contents. Try to print out specific columns.\n",
    "\n",
    "   Note that in order to make this project as \"real-world\" as possible, we haven't modified the data at all - we're giving it to you exactly how we found it. As a result, this data isn't as \"clean\" as the datasets you normally find on Codecademy. More specifically, there's something odd about the column names. After you figure out the problem with the column names, you may want to rename them to make your life easier for the rest of the project.\n",
    "   \n",
    "   In order to display the full contents of a column, we've added this line of code for you:\n",
    "   \n",
    "   ```py\n",
    "   pd.set_option('display.max_colwidth', None)\n",
    "   ```"
   ]
  },
  {
   "cell_type": "code",
   "execution_count": 29,
   "metadata": {},
   "outputs": [
    {
     "name": "stdout",
     "output_type": "stream",
     "text": [
      "0         2004-12-31\n",
      "1         2004-12-31\n",
      "2         2004-12-31\n",
      "3         2004-12-31\n",
      "4         2004-12-31\n",
      "             ...    \n",
      "216925    2006-05-11\n",
      "216926    2006-05-11\n",
      "216927    2006-05-11\n",
      "216928    2006-05-11\n",
      "216929    2006-05-11\n",
      "Name: Air Date, Length: 216930, dtype: object\n"
     ]
    }
   ],
   "source": [
    "import pandas as pd\n",
    "pd.set_option('display.max_colwidth', None)\n",
    "\n",
    "jeopardy = pd.read_csv('jeopardy.csv')\n",
    "jeopardy.columns = ['Show Number', 'Air Date', 'Round', 'Category', 'Value', 'Question', 'Answer']\n",
    "\n",
    "print(jeopardy['Air Date'])"
   ]
  },
  {
   "cell_type": "markdown",
   "metadata": {},
   "source": [
    "2. Write a function that filters the dataset for questions that contains all of the words in a list of words. For example, when the list `[\"King\", \"England\"]` was passed to our function, the function returned a DataFrame of 49 rows. Every row had the strings `\"King\"` and `\"England\"` somewhere in its `\" Question\"`.\n",
    "\n",
    "   Test your function by printing out the column containing the question of each row of the dataset."
   ]
  },
  {
   "cell_type": "code",
   "execution_count": 18,
   "metadata": {},
   "outputs": [
    {
     "name": "stdout",
     "output_type": "stream",
     "text": [
      "49\n",
      "4953                 Both England's King George V & FDR put their stamp of approval on this \"King of Hobbies\"\n",
      "14912       This country's King Louis IV was nicknamed \"Louis From Overseas\" because he was raised in England\n",
      "21511                            this man and his son ruled England following the execution of King Charles I\n",
      "23810    William the Conqueror was crowned King of England in Westminster Abbey on Christmas Day in this year\n",
      "27555                      This member of the Medici family was the mother-in-law of England's King Charles I\n",
      "Name: Question, dtype: object\n"
     ]
    }
   ],
   "source": [
    "def filter_data(data, words):\n",
    "    filter = lambda x: all(word in x for word in words)\n",
    "    return data.loc[data['Question'].apply(filter)]\n",
    "\n",
    "filtered = filter_data(jeopardy, [\"King\", \"England\"])\n",
    "print(len(filtered))\n",
    "print(filtered['Question'].head())\n",
    "\n"
   ]
  },
  {
   "cell_type": "markdown",
   "metadata": {},
   "source": [
    "3. Test your original function with a few different sets of words to try to find some ways your function breaks. Edit your function so it is more robust.\n",
    "\n",
    "   For example, think about capitalization. We probably want to find questions that contain the word `\"King\"` or `\"king\"`.\n",
    "   \n",
    "   You may also want to check to make sure you don't find rows that contain substrings of your given words. For example, our function found a question that didn't contain the word `\"king\"`, however it did contain the word `\"viking\"` &mdash; it found the `\"king\"` inside `\"viking\"`. Note that this also comes with some drawbacks &mdash; you would no longer find questions that contained words like `\"England's\"`."
   ]
  },
  {
   "cell_type": "code",
   "execution_count": 19,
   "metadata": {},
   "outputs": [
    {
     "name": "stdout",
     "output_type": "stream",
     "text": [
      "106\n",
      "6337     In retaliation for Viking raids, this \"Unready\" king of England attacks Norse areas of the Isle of Man\n",
      "9191                   This king of England beat the odds to trounce the French in the 1415 Battle of Agincourt\n",
      "11710              This Scotsman, the first Stuart king of England, was called \"The Wisest Fool in Christendom\"\n",
      "13454                                      It's the number that followed the last king of England named William\n",
      "14445                 Nelson said, \"England expects that every man will do\" this & died thanking God he did his\n",
      "Name: Question, dtype: object\n"
     ]
    }
   ],
   "source": [
    "def filter_data(data, words):\n",
    "    filter = lambda x: all(word in x for word in words)\n",
    "    return data.loc[data['Question'].apply(filter)]\n",
    "\n",
    "filtered = filter_data(jeopardy, [\"king\", \"England\"])\n",
    "print(len(filtered))\n",
    "print(filtered['Question'].head())"
   ]
  },
  {
   "cell_type": "markdown",
   "metadata": {},
   "source": [
    "4. We may want to eventually compute aggregate statistics, like `.mean()` on the `\" Value\"` column. But right now, the values in that column are strings. Convert the`\" Value\"` column to floats. If you'd like to, you can create a new column with float values.\n",
    "\n",
    "   While most of the values in the `\" Value\"` column represent a dollar amount as a string, note that some do not &mdash; these values will need to be handled differently!\n",
    "\n",
    "   Now that you can filter the dataset of question, use your new column that contains the float values of each question to find the \"difficulty\" of certain topics. For example, what is the average value of questions that contain the word `\"King\"`?\n",
    "   \n",
    "   Make sure to use the dataset that contains the float values as the dataset you use in your filtering function."
   ]
  },
  {
   "cell_type": "code",
   "execution_count": 20,
   "metadata": {},
   "outputs": [
    {
     "name": "stdout",
     "output_type": "stream",
     "text": [
      "772.688998469648\n"
     ]
    }
   ],
   "source": [
    "jeopardy['Value_Floats'] = jeopardy['Value'].apply(lambda x: float(x[1:].replace(',', '')) if x != 'no value' else 0)\n",
    "\n",
    "filtered = filter_data(jeopardy, [\"king\"])\n",
    "print(filtered['Value_Floats'].mean())\n"
   ]
  },
  {
   "cell_type": "markdown",
   "metadata": {},
   "source": [
    "5. Write a function that returns the count of unique answers to all of the questions in a dataset. For example, after filtering the entire dataset to only questions containing the word `\"King\"`, we could then find all of the unique answers to those questions. The answer \"Henry VIII\" appeared 55 times and was the most common answer."
   ]
  },
  {
   "cell_type": "code",
   "execution_count": 21,
   "metadata": {},
   "outputs": [
    {
     "name": "stdout",
     "output_type": "stream",
     "text": [
      "Henry VIII     53\n",
      "Richard III    31\n",
      "Solomon        30\n",
      "David          25\n",
      "Louis XIV      24\n",
      "               ..\n",
      "mockingbird     1\n",
      "John Major      1\n",
      "Son of Sam      1\n",
      "adrift          1\n",
      "work            1\n",
      "Name: Answer, Length: 4452, dtype: int64\n"
     ]
    }
   ],
   "source": [
    "def get_answer_counts(data):\n",
    "    return data['Answer'].value_counts()\n",
    "\n",
    "print(get_answer_counts(filtered))"
   ]
  },
  {
   "cell_type": "markdown",
   "metadata": {},
   "source": [
    "6. Explore from here! This is an incredibly rich dataset, and there are so many interesting things to discover. There are a few columns that we haven't even started looking at yet. Here are some ideas on ways to continue working with this data:\n",
    "\n",
    " * Investigate the ways in which questions change over time by filtering by the date. How many questions from the 90s use the word `\"Computer\"` compared to questions from the 2000s?\n",
    " * Is there a connection between the round and the category? Are you more likely to find certain categories, like `\"Literature\"` in Single Jeopardy or Double Jeopardy?\n",
    " * Build a system to quiz yourself. Grab random questions, and use the <a href=\"https://docs.python.org/3/library/functions.html#input\">input</a> function to get a response from the user. Check to see if that response was right or wrong."
   ]
  },
  {
   "cell_type": "code",
   "execution_count": 47,
   "metadata": {},
   "outputs": [
    {
     "name": "stdout",
     "output_type": "stream",
     "text": [
      "4372\n",
      "12456\n"
     ]
    }
   ],
   "source": [
    "#Investigate the ways in which questions change over time by filtering by the date. How many questions from the 90s use the word \"Computer\" compared to questions from the 2000s?\n",
    "\n",
    "def filter_data(data, words):\n",
    "    filter = lambda x: all(word in x for word in words)\n",
    "    return data.loc[data['Question'].apply(filter)]\n",
    "\n",
    "jeopardy[\"Year\"] = jeopardy['Air Date'].apply(lambda x: int(x[:4]))\n",
    "\n",
    "ninty_computer = (filter_data(jeopardy.loc[(jeopardy['Year'] > 1989) & (jeopardy['Year'] < 2000)], 'Computer'))\n",
    "twenty_computer = (filter_data(jeopardy.loc[(jeopardy['Year'] > 1999) & (jeopardy['Year'] < 2010)], 'Computer'))\n",
    "\n",
    "print(len(ninty_computer))\n",
    "print(len(twenty_computer))\n"
   ]
  },
  {
   "cell_type": "markdown",
   "metadata": {},
   "source": [
    "## Solution"
   ]
  },
  {
   "cell_type": "markdown",
   "metadata": {},
   "source": [
    "7. Compare your program to our <a href=\"https://content.codecademy.com/PRO/independent-practice-projects/jeopardy/jeopardy_solution.zip\">sample solution code</a> - remember, that your program might look different from ours (and probably will) and that's okay!"
   ]
  },
  {
   "cell_type": "markdown",
   "metadata": {},
   "source": [
    "8. Great work! Visit <a href=\"https://discuss.codecademy.com/t/this-is-jeopardy-challenge-project-python-pandas/462365\">our forums</a> to compare your project to our sample solution code. You can also learn how to host your own solution on GitHub so you can share it with other learners! Your solution might look different from ours, and that's okay! There are multiple ways to solve these projects, and you'll learn more by seeing others' code."
   ]
  },
  {
   "cell_type": "code",
   "execution_count": null,
   "metadata": {},
   "outputs": [],
   "source": []
  }
 ],
 "metadata": {
  "kernelspec": {
   "display_name": "Python 3 (ipykernel)",
   "language": "python",
   "name": "python3"
  },
  "language_info": {
   "codemirror_mode": {
    "name": "ipython",
    "version": 3
   },
   "file_extension": ".py",
   "mimetype": "text/x-python",
   "name": "python",
   "nbconvert_exporter": "python",
   "pygments_lexer": "ipython3",
   "version": "3.9.15"
  }
 },
 "nbformat": 4,
 "nbformat_minor": 2
}
